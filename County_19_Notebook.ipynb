{
 "cells": [
  {
   "cell_type": "markdown",
   "metadata": {},
   "source": [
    "# County 19"
   ]
  },
  {
   "cell_type": "markdown",
   "metadata": {},
   "source": [
    "## Project Introduction\n",
    "### Functional Distribution\n",
    "#### Pyton Scripts\n",
    "Scrapes data from New York Times GitHub project\n",
    "\n",
    "#### Firebase\n",
    "Keeps the clean data and stores it based on county and time\n",
    "\n",
    "#### iOS / Android App (Flutter?)\n",
    "Frontend to access the Data"
   ]
  },
  {
   "cell_type": "code",
   "execution_count": 203,
   "metadata": {},
   "outputs": [],
   "source": [
    "# Imports\n",
    "import sys\n",
    "import numpy as np\n",
    "import pandas as pd\n",
    "import git\n",
    "from datetime import datetime, timedelta\n",
    "from firebase import firebase\n",
    "import time\n",
    "import json\n",
    "import os\n",
    "import logging"
   ]
  },
  {
   "cell_type": "code",
   "execution_count": 204,
   "metadata": {},
   "outputs": [],
   "source": [
    "# Filter data by a given county\n",
    "#\n",
    "def filter_by_county(county):\n",
    "    filtered = us_counties[(us_counties['county']==county)]\n",
    "    filtered = filtered.drop({'county', 'state', 'fips'},  axis=1).reset_index(drop=True)\n",
    "    return filtered"
   ]
  },
  {
   "cell_type": "code",
   "execution_count": 205,
   "metadata": {},
   "outputs": [],
   "source": [
    "# Filter data by a given state\n",
    "#\n",
    "def filter_by_state(state):\n",
    "    return us_states[(us_states['state']==state)].drop({'state', 'fips'},  axis=1).reset_index(drop=True)\n"
   ]
  },
  {
   "cell_type": "code",
   "execution_count": 206,
   "metadata": {},
   "outputs": [],
   "source": [
    "# Filter US data\n",
    "#\n",
    "def filter_us():\n",
    "    return us.reset_index(drop=True)"
   ]
  },
  {
   "cell_type": "code",
   "execution_count": 207,
   "metadata": {},
   "outputs": [],
   "source": [
    "# Upload information info (county and state list) to firebase\n",
    "#\n",
    "def upload_info():\n",
    "    start = time.time()\n",
    "    firebase_db.put(url='/info/', data=str(states.tolist()).strip('[]').replace('\\'','').replace(', ', ','), name='states')\n",
    "    firebase_db.put(url='/info/', data=str(counties_info.tolist()).strip('[]').replace('\\'','').replace(', ', ','), name='counties')\n",
    "    end = time.time()\n",
    "    logging.info('\\tUploaded info data (' + str(format(end-start, '.3f')) + ' secs)')"
   ]
  },
  {
   "cell_type": "code",
   "execution_count": 208,
   "metadata": {},
   "outputs": [],
   "source": [
    "# Upload given data to specific dir\n",
    "#\n",
    "def firebase_upload(dir, data, name):\n",
    "    # TODO: might want to send more data in the future, for now this will do\n",
    "    firebase_db.put(url=dir, data=data.head(90).to_dict('records'), name=name)"
   ]
  },
  {
   "cell_type": "code",
   "execution_count": 209,
   "metadata": {},
   "outputs": [],
   "source": [
    "def upload_us():\n",
    "    start = time.time()\n",
    "    firebase_upload(dir='/', data=filter_us(), name='us')\n",
    "    end = time.time()\n",
    "    logging.info('\\tUploaded US data (' + str(format(end-start, '.3f')) + ' secs)')"
   ]
  },
  {
   "cell_type": "code",
   "execution_count": 210,
   "metadata": {},
   "outputs": [],
   "source": [
    "def upload_states():\n",
    "    start = time.time()\n",
    "    for state in states:\n",
    "        firebase_upload(dir='/state/', data=filter_by_state(state), name=state)\n",
    "    end = time.time()\n",
    "    logging.info('\\tUploaded states data (' + str(format(end-start, '.3f')) + ' secs)')"
   ]
  },
  {
   "cell_type": "code",
   "execution_count": 211,
   "metadata": {},
   "outputs": [],
   "source": [
    "def upload_counties(n):\n",
    "    start = time.time()\n",
    "    for county in counties[n%len(counties)]:\n",
    "        firebase_upload(dir='/county/', data=filter_by_county(county), name=county.replace(\".\", \"\"))\n",
    "    end = time.time()\n",
    "    logging.info('\\tUploaded county data (' + str(format(end-start, '.3f')) + ' secs)')"
   ]
  },
  {
   "cell_type": "code",
   "execution_count": 212,
   "metadata": {},
   "outputs": [],
   "source": [
    "def upload_all_data(n):\n",
    "    start = time.time()\n",
    "    upload_info()\n",
    "    upload_us()\n",
    "    upload_states()\n",
    "    upload_counties(n)\n",
    "    end = time.time()\n",
    "    logging.info('Total upload time: (' + str(format(end-start, '.3f')) + ' secs)')"
   ]
  },
  {
   "cell_type": "code",
   "execution_count": 213,
   "metadata": {},
   "outputs": [],
   "source": [
    "def partition(county_list, n):\n",
    "    for i in range(0, len(county_list), n):\n",
    "        yield county_list[i:i + n]"
   ]
  },
  {
   "cell_type": "code",
   "execution_count": 214,
   "metadata": {},
   "outputs": [],
   "source": [
    "# Init log\n",
    "logging.basicConfig(filename='download_history.log',level=logging.INFO)\n",
    "\n",
    "# Refresh files through git\n",
    "clone_dir = './'\n",
    "repo_dir = './covid-19-data'\n",
    "repo_url = 'https://github.com/nytimes/covid-19-data.git'\n",
    "\n",
    "if not os.path.isdir('./covid-19-data'):\n",
    "    git.Git(clone_dir).clone(repo_url)\n",
    "    logging.info(str('\\tCloned repo: ' + repo_url))\n",
    "        \n",
    "global git_repo\n",
    "global us_counties\n",
    "global us_states\n",
    "global us\n",
    "global firebase_url\n",
    "global firebase_db\n",
    "global counties_info\n",
    "global counties\n",
    "global states\n",
    "\n",
    "# Connect to firebase database\n",
    "firebase_url = 'https://county-live-19.firebaseio.com/'\n",
    "firebase_db = firebase.FirebaseApplication(firebase_url, None)"
   ]
  },
  {
   "cell_type": "code",
   "execution_count": null,
   "metadata": {},
   "outputs": [],
   "source": [
    "# Upload data to firebase\n",
    "i = 0\n",
    "while True:\n",
    "    logging.info('\\t========== ['+datetime.today().strftime('%m/%d/%Y %H:%M:%S')+'] =========')\n",
    "    git_repo = git.cmd.Git(repo_dir)\n",
    "    logging.info(str(\"\\tPulled data: \"+git_repo.pull()))\n",
    "    \n",
    "    # Populate dataframes\n",
    "    start = time.time()\n",
    "    us_counties = pd.read_csv('covid-19-data/us-counties.csv')\n",
    "    us_states = pd.read_csv('covid-19-data/us-states.csv')\n",
    "    us = pd.read_csv('covid-19-data/us.csv')\n",
    "    us_counties.sort_values(by=['date'], inplace=True, ascending=False)\n",
    "    us_states.sort_values(by=['date'], inplace=True, ascending=False)\n",
    "    us.sort_values(by=['date'], inplace=True, ascending=False)\n",
    "    end = time.time()\n",
    "    logging.info(str('\\tPopulated dataframes (' + str(format(end-start, '.3f')) + ' secs)'))\n",
    "    counties_info = us_counties.county.unique()\n",
    "    counties = list(partition(counties_info, 60))\n",
    "    states = us_states.state.unique()\n",
    "\n",
    "    # Upload data\n",
    "    upload_all_data(i)\n",
    "    i = (i + 1) % len(counties)\n",
    "    time.sleep(1200)"
   ]
  },
  {
   "cell_type": "markdown",
   "metadata": {},
   "source": [
    "#### Notes\n",
    "Command to convert notebook to python: \n",
    "jupyter nbconvert --to python County_19_Notebook.ipynb"
   ]
  }
 ],
 "metadata": {
  "kernelspec": {
   "display_name": "Python 3",
   "language": "python",
   "name": "python3"
  },
  "language_info": {
   "codemirror_mode": {
    "name": "ipython",
    "version": 3
   },
   "file_extension": ".py",
   "mimetype": "text/x-python",
   "name": "python",
   "nbconvert_exporter": "python",
   "pygments_lexer": "ipython3",
   "version": "3.7.4"
  }
 },
 "nbformat": 4,
 "nbformat_minor": 2
}
