{
 "cells": [
  {
   "cell_type": "markdown",
   "metadata": {},
   "source": [
    "# County 19"
   ]
  },
  {
   "cell_type": "markdown",
   "metadata": {},
   "source": [
    "## Project Introduction\n",
    "### Functional Distribution\n",
    "#### Pyton Scripts\n",
    "Scrapes data from New York Times GitHub project\n",
    "\n",
    "#### Firebase\n",
    "Keeps the clean data and stores it based on county and time\n",
    "\n",
    "#### iOS / Android App (Flutter?)\n",
    "Frontend to access the Data"
   ]
  },
  {
   "cell_type": "code",
   "execution_count": 45,
   "metadata": {},
   "outputs": [],
   "source": [
    "# Imports\n",
    "import sys\n",
    "import numpy as np\n",
    "import pandas as pd\n",
    "import git\n",
    "from datetime import datetime, timedelta\n",
    "from firebase import firebase\n",
    "import time\n",
    "import json\n",
    "import os\n",
    "import logging"
   ]
  },
  {
   "cell_type": "code",
   "execution_count": 46,
   "metadata": {},
   "outputs": [],
   "source": [
    "# Filter data by a given county\n",
    "#\n",
    "def filter_by_county(county):\n",
    "    filtered = us_counties[(us_counties['county']==county)]\n",
    "    filtered = filtered.drop({'county', 'state', 'fips'},  axis=1).reset_index(drop=True)\n",
    "    return filtered"
   ]
  },
  {
   "cell_type": "code",
   "execution_count": 47,
   "metadata": {},
   "outputs": [],
   "source": [
    "# Filter data by a given state\n",
    "#\n",
    "def filter_by_state(state):\n",
    "    return us_states[(us_states['state']==state)].drop({'state', 'fips'},  axis=1).reset_index(drop=True)\n"
   ]
  },
  {
   "cell_type": "code",
   "execution_count": 48,
   "metadata": {},
   "outputs": [],
   "source": [
    "# Filter US data\n",
    "#\n",
    "def filter_us():\n",
    "    return us.reset_index(drop=True)"
   ]
  },
  {
   "cell_type": "code",
   "execution_count": 49,
   "metadata": {},
   "outputs": [],
   "source": [
    "# Upload information info (county and state list) to firebase\n",
    "#\n",
    "def upload_info():\n",
    "    print('Uploading info data...')\n",
    "    start = time.time()\n",
    "    firebase_db.put(url='/info/', data=json.dumps(states.tolist()), name='states')\n",
    "    firebase_db.put(url='/info/', data=json.dumps(counties_info.tolist()), name='counties')\n",
    "    end = time.time()\n",
    "    print('Finished uploading info data (' + str(format(end-start, '.3f')) + ' secs)')"
   ]
  },
  {
   "cell_type": "code",
   "execution_count": 50,
   "metadata": {},
   "outputs": [],
   "source": [
    "# Upload given data to specific dir\n",
    "#\n",
    "def firebase_upload(dir, data):\n",
    "    # TODO: might want to send more data in the future, for now this will do\n",
    "    firebase_db.put(url=dir, data=data.head(90).to_json(orient ='index'), name='quarter')"
   ]
  },
  {
   "cell_type": "code",
   "execution_count": 51,
   "metadata": {},
   "outputs": [],
   "source": [
    "def upload_us():\n",
    "    print('Uploading US data...')\n",
    "    start = time.time()\n",
    "    firebase_upload('/us/', filter_us())\n",
    "    end = time.time()\n",
    "    print('Finished uploading US data (' + str(format(end-start, '.3f')) + ' secs)')"
   ]
  },
  {
   "cell_type": "code",
   "execution_count": 52,
   "metadata": {},
   "outputs": [],
   "source": [
    "def upload_states():\n",
    "    print('Uploading state data...')\n",
    "    start = time.time()\n",
    "    for state in states:\n",
    "        firebase_upload('/state/'+state+'/', filter_by_state(state))\n",
    "    end = time.time()\n",
    "    print('Finished uploading states data (' + str(format(end-start, '.3f')) + ' secs)')"
   ]
  },
  {
   "cell_type": "code",
   "execution_count": 53,
   "metadata": {},
   "outputs": [],
   "source": [
    "def upload_counties(n):\n",
    "    print('Uploading county data...')\n",
    "    start = time.time()\n",
    "    for county in counties[n%len(counties)]:\n",
    "        firebase_upload('/county/'+county.replace(\".\", \"\")+'/', filter_by_county(county))\n",
    "    end = time.time()\n",
    "    print('Finished uploading county data (' + str(format(end-start, '.3f')) + ' secs)')"
   ]
  },
  {
   "cell_type": "code",
   "execution_count": 54,
   "metadata": {},
   "outputs": [],
   "source": [
    "def upload_all_data(n):\n",
    "    start = time.time()\n",
    "    upload_info()\n",
    "    upload_us()\n",
    "    upload_states()\n",
    "    upload_counties(n)\n",
    "    end = time.time()\n",
    "    print('Total upload time: (' + str(format(end-start, '.3f')) + ' secs)')"
   ]
  },
  {
   "cell_type": "code",
   "execution_count": 55,
   "metadata": {},
   "outputs": [],
   "source": [
    "def partition(county_list, n):\n",
    "    \"\"\"Yield successive n-sized chunks from lst.\"\"\"\n",
    "    for i in range(0, len(county_list), n):\n",
    "        yield county_list[i:i + n]"
   ]
  },
  {
   "cell_type": "code",
   "execution_count": null,
   "metadata": {},
   "outputs": [],
   "source": [
    "# Init log\n",
    "logging.basicConfig(filename='download_history.log',level=logging.INFO)\n",
    "\n",
    "# Refresh files through git\n",
    "clone_dir = './'\n",
    "repo_dir = './covid-19-data'\n",
    "repo_url = 'https://github.com/nytimes/covid-19-data.git'\n",
    "\n",
    "if not os.path.isdir('./covid-19-data'):\n",
    "    git.Git(clone_dir).clone(repo_url)\n",
    "    logging.info(str('Pulled data from ' + repo_url))\n",
    "        \n",
    "git_repo = git.cmd.Git(repo_dir)\n",
    "logging.info(str(\"Pulling data:\"+git_repo.pull()))\n",
    "\n",
    "# Populating dataframes\n",
    "logging.info('Populating dataframes... ')\n",
    "start = time.time()\n",
    "us_counties = pd.read_csv('covid-19-data/us-counties.csv')\n",
    "us_states = pd.read_csv('covid-19-data/us-states.csv')\n",
    "us = pd.read_csv('covid-19-data/us.csv')\n",
    "us_counties.sort_values(by=['date'], inplace=True, ascending=False)\n",
    "us_states.sort_values(by=['date'], inplace=True, ascending=False)\n",
    "us.sort_values(by=['date'], inplace=True, ascending=False)\n",
    "end = time.time()\n",
    "logging.info(str('Success populating dataframes (' + str(format(end-start, '.3f')) + ' secs)'))\n",
    "\n",
    "# Connect to firebase database\n",
    "firebase_url = 'https://county-19.firebaseio.com/'\n",
    "firebase_db = firebase.FirebaseApplication(firebase_url, None)\n",
    "\n",
    "# Get information data\n",
    "counties_info = us_counties.county.unique()\n",
    "counties = list(partition(counties_info, 60))\n",
    "states = us_states.state.unique()\n",
    "\n",
    "# Upload data to firebase\n",
    "i = 0\n",
    "while True:\n",
    "    logging.info(str(\"Pulling data:\"+git_repo.pull()))\n",
    "    print('Uploading Data ['+datetime.today().strftime('%m/%d/%Y %H:%M:%S')+']')\n",
    "    logging.info(str('Uploading Data ['+datetime.today().strftime('%m/%d/%Y %H:%M:%S')+']'))\n",
    "    upload_all_data(i)\n",
    "    i = (i + 1) % len(counties)\n",
    "    time.sleep(1200)"
   ]
  },
  {
   "cell_type": "markdown",
   "metadata": {},
   "source": [
    "#### Notes\n",
    "Command to convert notebook to python: \n",
    "jupyter nbconvert --to python County_19_Notebook.ipynb"
   ]
  }
 ],
 "metadata": {
  "kernelspec": {
   "display_name": "Python 3",
   "language": "python",
   "name": "python3"
  },
  "language_info": {
   "codemirror_mode": {
    "name": "ipython",
    "version": 3
   },
   "file_extension": ".py",
   "mimetype": "text/x-python",
   "name": "python",
   "nbconvert_exporter": "python",
   "pygments_lexer": "ipython3",
   "version": "3.7.4"
  }
 },
 "nbformat": 4,
 "nbformat_minor": 2
}
